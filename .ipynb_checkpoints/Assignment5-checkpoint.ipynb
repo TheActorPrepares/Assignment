{
 "cells": [
  {
   "cell_type": "raw",
   "metadata": {},
   "source": [
    "1. Write a function to compute 5/0 and use try/except to catch the exceptions. \n"
   ]
  },
  {
   "cell_type": "code",
   "execution_count": null,
   "metadata": {},
   "outputs": [],
   "source": [
    "def FindComputeError(a,b):\n",
    "    try:\n",
    "        c=a/b\n",
    "        print(c)\n",
    "    except ZeroDivisionError:\n",
    "        print(\"we cannot divide by zero,please change value of b\")\n",
    "\n",
    "FindComputeError(5,0)"
   ]
  },
  {
   "cell_type": "raw",
   "metadata": {},
   "source": [
    "2. Implement a Python program to generate all sentences where subject is in  [\"Americans\", \"Indians\"] and verb is in [\"Play\", \"watch\"] and the object is in  [\"Baseball\",\"cricket\"]. \n",
    "Hint: Subject,Verb and Object should be declared in the program as shown below. \n",
    "subjects=[\"Americans \",\"Indians\"] \n",
    "verbs=[\"play\",\"watch\"] \n",
    "objects=[\"Baseball\",\"Cricket\"] \n",
    "Output should come as below: \n",
    "Americans play Baseball. \n",
    "Americans play Cricket. \n",
    "Americans watch Baseball. \n",
    "Americans watch Cricket. \n",
    "Indians play Baseball. \n",
    "Indians play Cricket. \n",
    "Indians watch Baseball. \n",
    "Indians watch Cricket. \n"
   ]
  },
  {
   "cell_type": "code",
   "execution_count": null,
   "metadata": {},
   "outputs": [],
   "source": [
    "subjects=[\"Americans \",\"Indians\"] \n",
    "verbs=[\"play\",\"watch\"] \n",
    "objects=[\"Baseball\",\"Cricket\"] \n",
    "for i in range(len(subjects)) :\n",
    "    for j in range(len(verbs)):\n",
    "        for k in range(len(objects)):\n",
    "            sentence='%s %s %s '%(subjects[i],verbs[j],objects[k])\n",
    "            print(sentence)"
   ]
  }
 ],
 "metadata": {
  "kernelspec": {
   "display_name": "Python 3",
   "language": "python",
   "name": "python3"
  },
  "language_info": {
   "codemirror_mode": {
    "name": "ipython",
    "version": 3
   },
   "file_extension": ".py",
   "mimetype": "text/x-python",
   "name": "python",
   "nbconvert_exporter": "python",
   "pygments_lexer": "ipython3",
   "version": "3.7.6"
  }
 },
 "nbformat": 4,
 "nbformat_minor": 4
}
